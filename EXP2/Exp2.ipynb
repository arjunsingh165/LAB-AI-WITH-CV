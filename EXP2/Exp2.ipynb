{
 "cells": [
  {
   "cell_type": "code",
   "execution_count": 2,
   "id": "d1ecd46f-8d5d-4b33-ba5a-f64b140e6fe4",
   "metadata": {},
   "outputs": [
    {
     "name": "stdout",
     "output_type": "stream",
     "text": [
      "   Sunny  Warm Normal  Strong Warm.1    Same  Yes\n",
      "0  Sunny  Warm   High  Strong   Warm    Same  Yes\n",
      "1  Rainy  Cold   High  Strong   Warm  Change   No\n",
      "2  Sunny  Warm   High  Strong   Cool  Change  Yes\n"
     ]
    }
   ],
   "source": [
    "import numpy as np\n",
    "import pandas as pd\n",
    "#loading data from CSV File\n",
    "data=pd.DataFrame(data=pd.read_csv('ws.csv'))\n",
    "print(data)"
   ]
  },
  {
   "cell_type": "code",
   "execution_count": 3,
   "id": "3072b8f5-c149-4665-87d5-cb1bd051b58e",
   "metadata": {},
   "outputs": [
    {
     "name": "stdout",
     "output_type": "stream",
     "text": [
      "[['Sunny' 'Warm' 'High' 'Strong' 'Warm' 'Same']\n",
      " ['Rainy' 'Cold' 'High' 'Strong' 'Warm' 'Change']\n",
      " ['Sunny' 'Warm' 'High' 'Strong' 'Cool' 'Change']]\n"
     ]
    }
   ],
   "source": [
    "#separating concept features from target\n",
    "concepts=np.array(data.iloc[:,0:-1])\n",
    "print(concepts)"
   ]
  },
  {
   "cell_type": "code",
   "execution_count": 4,
   "id": "aab2f46d-b015-461a-b339-9d6e61b9a7d6",
   "metadata": {},
   "outputs": [
    {
     "name": "stdout",
     "output_type": "stream",
     "text": [
      "['Yes' 'No' 'Yes']\n"
     ]
    }
   ],
   "source": [
    "#Isolating target into a separate Dataframe\n",
    "#copying last column to target array\n",
    "target=np.array(data.iloc[:,-1])\n",
    "print(target)"
   ]
  },
  {
   "cell_type": "code",
   "execution_count": 16,
   "id": "dc045a62-a909-4c7b-b72a-c6e1ff95cb86",
   "metadata": {},
   "outputs": [],
   "source": [
    "def learn(concepts, target):\n",
    "    '''\n",
    "    learn() function implements the learning method of the candidate elimination.\n",
    "    Arguments:\n",
    "    concepts - a data frame with all features\n",
    "    '''\n",
    "    # Copy makes sure a new list is created instead of just pointing to the reference\n",
    "    specific_h = concepts[0].copy()\n",
    "    print(\"\\nInitialization of specific_h and general_h\")\n",
    "    print(specific_h)\n",
    "\n",
    "    general_h = [[\"?\" for _ in range(len(specific_h))] for _ in range(len(specific_h))]\n",
    "    print(general_h)\n",
    "    \n",
    "    # The learning iterations\n",
    "    for i, h in enumerate(concepts):\n",
    "        # Checking if the hypothesis has a positive target\n",
    "        if target[i] == \"Yes\":\n",
    "            for x in range(len(specific_h)):\n",
    "                # Change values in S and G only if values change\n",
    "                if h[x] != specific_h[x]:\n",
    "                    specific_h[x] = '?'\n",
    "                    general_h[x][x] = '?'\n",
    "        \n",
    "        # Checking if the hypothesis has a negative target\n",
    "        if target[i] == \"No\":\n",
    "            for x in range(len(specific_h)):\n",
    "                # For negative hypothesis, can change value only in G \n",
    "                if h[x] != specific_h[x]:\n",
    "                    general_h[x][x] = h[x]\n",
    "                else:\n",
    "                    general_h[x][x] = '?'\n",
    "        \n",
    "        print(\"\\nSteps of Candidate Elimination Algorithm\", i + 1)\n",
    "        print(specific_h)\n",
    "        print(general_h)\n",
    "    \n",
    "    # Find indices where we have empty rows, meaning those that are unchanged\n",
    "    indices = [i for i, val in enumerate(general_h) if val == ['?'] * len(specific_h)]\n",
    "    for i in indices:\n",
    "        # Remove those rows from general_h\n",
    "        general_h.remove(['?'] * len(specific_h))\n",
    "    \n",
    "    # Return final values\n",
    "    return specific_h, general_h\n"
   ]
  },
  {
   "cell_type": "code",
   "execution_count": 18,
   "id": "0975e52d-1eeb-45ed-904d-87250de30955",
   "metadata": {},
   "outputs": [
    {
     "name": "stdout",
     "output_type": "stream",
     "text": [
      "\n",
      "Initialization of specific_h and general_h\n",
      "['Sunny' 'Warm' 'High' 'Strong' 'Warm' 'Same']\n",
      "[['?', '?', '?', '?', '?', '?'], ['?', '?', '?', '?', '?', '?'], ['?', '?', '?', '?', '?', '?'], ['?', '?', '?', '?', '?', '?'], ['?', '?', '?', '?', '?', '?'], ['?', '?', '?', '?', '?', '?']]\n",
      "\n",
      "Steps of Candidate Elimination Algorithm 1\n",
      "['Sunny' 'Warm' 'High' 'Strong' 'Warm' 'Same']\n",
      "[['?', '?', '?', '?', '?', '?'], ['?', '?', '?', '?', '?', '?'], ['?', '?', '?', '?', '?', '?'], ['?', '?', '?', '?', '?', '?'], ['?', '?', '?', '?', '?', '?'], ['?', '?', '?', '?', '?', '?']]\n",
      "\n",
      "Steps of Candidate Elimination Algorithm 2\n",
      "['Sunny' 'Warm' 'High' 'Strong' 'Warm' 'Same']\n",
      "[['Rainy', '?', '?', '?', '?', '?'], ['?', 'Cold', '?', '?', '?', '?'], ['?', '?', '?', '?', '?', '?'], ['?', '?', '?', '?', '?', '?'], ['?', '?', '?', '?', '?', '?'], ['?', '?', '?', '?', '?', 'Change']]\n",
      "\n",
      "Steps of Candidate Elimination Algorithm 3\n",
      "['Sunny' 'Warm' 'High' 'Strong' '?' '?']\n",
      "[['Rainy', '?', '?', '?', '?', '?'], ['?', 'Cold', '?', '?', '?', '?'], ['?', '?', '?', '?', '?', '?'], ['?', '?', '?', '?', '?', '?'], ['?', '?', '?', '?', '?', '?'], ['?', '?', '?', '?', '?', '?']]\n",
      "\n",
      "Final Specific_h:\n",
      "['Sunny' 'Warm' 'High' 'Strong' '?' '?']\n",
      "\n",
      "Final General_h:\n",
      "[['Rainy', '?', '?', '?', '?', '?'], ['?', 'Cold', '?', '?', '?', '?']]\n"
     ]
    }
   ],
   "source": [
    "s_final,g_final = learn(concepts,target)\n",
    "print(\"\\nFinal Specific_h:\",s_final,sep=\"\\n\")\n",
    "print(\"\\nFinal General_h:\",g_final,sep=\"\\n\")"
   ]
  },
  {
   "cell_type": "code",
   "execution_count": null,
   "id": "041b5b22-7e42-4b39-bf89-56ab67a8b579",
   "metadata": {},
   "outputs": [],
   "source": []
  }
 ],
 "metadata": {
  "kernelspec": {
   "display_name": "Python 3 (ipykernel)",
   "language": "python",
   "name": "python3"
  },
  "language_info": {
   "codemirror_mode": {
    "name": "ipython",
    "version": 3
   },
   "file_extension": ".py",
   "mimetype": "text/x-python",
   "name": "python",
   "nbconvert_exporter": "python",
   "pygments_lexer": "ipython3",
   "version": "3.12.4"
  }
 },
 "nbformat": 4,
 "nbformat_minor": 5
}
