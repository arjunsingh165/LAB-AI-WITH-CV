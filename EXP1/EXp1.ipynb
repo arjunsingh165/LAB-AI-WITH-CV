{
 "cells": [
  {
   "cell_type": "code",
   "execution_count": 1,
   "id": "71911cc9-d038-49d5-ab64-c2a2ddfefb63",
   "metadata": {},
   "outputs": [],
   "source": [
    "## implement and demonstrate the data processing for finding the most specific hypothesis based on a given set of training\n",
    "#data samples. Read the training data from a .CSV file.\n"
   ]
  },
  {
   "cell_type": "code",
   "execution_count": 2,
   "id": "6622e184-7b0f-41f1-a3fe-14cb0230fd61",
   "metadata": {},
   "outputs": [],
   "source": [
    "#how does find-S  work?\n",
    "# it intializes the most specific hypothesis\n",
    "# it updates the hypothesis only when it encounters the positive exaample(yes)\n",
    "# if a feature value in a new example matches the hypothesis, it remains the same\n",
    "# if a feature value differs, it isreplaves by a wildcard symbol(?), which means \"any value\".\n"
   ]
  },
  {
   "cell_type": "code",
   "execution_count": 3,
   "id": "1dbed5dd-7765-425d-9fb7-2d5d88a8c708",
   "metadata": {},
   "outputs": [],
   "source": [
    "#find S Algorithm\n",
    "#1. initialize h to the most specific hypothesis in H (Hypothesis Space)\n",
    "#2. For each psoitive training instance x\n",
    "#           for each attribute constraint a in h\n",
    "#              if the constraint a is satisfied by x\n",
    "#                 Then do nothing\n",
    "#                  else replace ai, in h by the next more general constraint that is satisfied by x\n",
    "#3. Output hypothesis h"
   ]
  },
  {
   "cell_type": "code",
   "execution_count": 3,
   "id": "7b14cc79-a803-4817-b6e8-8a078b2063cd",
   "metadata": {},
   "outputs": [
    {
     "name": "stdout",
     "output_type": "stream",
     "text": [
      "\n",
      " The Given Training Data Set\n",
      "\n",
      "['Sunny', 'Warm', 'Normal', 'Strong', 'Warm', 'Same', 'Yes']\n",
      "['Sunny', 'Warm', 'High', 'Strong', 'Warm', 'Same', 'Yes']\n",
      "['Rainy', 'Cold', 'High', 'Strong', 'Warm', 'Change', 'No']\n",
      "['Sunny', 'Warm', 'High', 'Strong', 'Cool', 'Change', 'Yes']\n",
      "\n",
      " The initial value of hypothesis:\n",
      "['0', '0', '0', '0', '0', '0']\n",
      "\n",
      " Find S: Finding a maximally Specific Hypothesis\n",
      "\n",
      "For Training instance No:1 the hypothesis is ['Sunny', 'Warm', 'Normal', 'Strong', 'Warm', 'Same']\n",
      "For Training instance No:2 the hypothesis is ['Sunny', 'Warm', '?', 'Strong', 'Warm', 'Same']\n",
      "For Training instance No:3 the hypothesis is ['Sunny', 'Warm', '?', 'Strong', 'Warm', 'Same']\n",
      "For Training instance No:4 the hypothesis is ['Sunny', 'Warm', '?', 'Strong', '?', '?']\n",
      "\n",
      " The Maximally Specific Hypothesis for a given Training Examples:\n",
      "\n",
      "['Sunny', 'Warm', '?', 'Strong', '?', '?']\n"
     ]
    }
   ],
   "source": [
    "import csv\n",
    "num_attributes=6\n",
    "a=[]\n",
    "print(\"\\n The Given Training Data Set\\n\")\n",
    "with open ('ws.csv','r') as csvfile:\n",
    "    reader = csv.reader(csvfile)\n",
    "    for row in reader:\n",
    "        a.append(row)\n",
    "        print(row)\n",
    "        \n",
    "print(\"\\n The initial value of hypothesis:\")\n",
    "hypothesis=['0']*num_attributes\n",
    "print(hypothesis)\n",
    "\n",
    "#Initialize hypothesis with the first positive examples\n",
    "for j in range(0,num_attributes):\n",
    "    hypothesis[j]=a[0][j]\n",
    "    \n",
    "print(\"\\n Find S: Finding a maximally Specific Hypothesis\\n\")\n",
    "\n",
    "for i in range(0,len(a)): #loop through training examples\n",
    "    if a[i][num_attributes] == 'Yes': #Consider only positive examples\n",
    "        for j in range(0,num_attributes):\n",
    "            if a[i][j] != hypothesis[j]:\n",
    "                hypothesis[j]='?'\n",
    "            else:\n",
    "                hypothesis[j]=a[i][j]\n",
    "                \n",
    "    #Changed training instance number from (i) to (i+1)\n",
    "    print(\"For Training instance No:{0} the hypothesis is\".format(i+1),hypothesis)\n",
    "    \n",
    "print(\"\\n The Maximally Specific Hypothesis for a given Training Examples:\\n\")\n",
    "print(hypothesis)"
   ]
  },
  {
   "cell_type": "code",
   "execution_count": 1,
   "id": "c616f10c-ac77-4acc-bf7b-2c276ffc7817",
   "metadata": {},
   "outputs": [
    {
     "name": "stdout",
     "output_type": "stream",
     "text": [
      "The Given Training Data Set \n",
      "\n",
      "['Sunny', 'Warm', 'Normal', 'Strong', 'Warm', 'Same', 'Yes']\n",
      "The Initial Value Of Hypothesis: \n",
      "['Sunny', 'Warm', 'High', 'Strong', 'Warm', 'Same', 'Yes']\n",
      "The Initial Value Of Hypothesis: \n",
      "['Rainy', 'Cold', 'High', 'Strong', 'Warm', 'Change', 'No']\n",
      "The Initial Value Of Hypothesis: \n",
      "['Sunny', 'Warm', 'High', 'Strong', 'Cool', 'Change', 'Yes']\n",
      "The Initial Value Of Hypothesis: \n",
      "['0', '0', '0', '0', '0', '0']\n",
      "Find S: Finding a Maximally Specific Hypothesis \n",
      "\n",
      "Find S: Finding a Maximally Specific Hypothesis \n",
      "\n",
      "Find S: Finding a Maximally Specific Hypothesis \n",
      "\n",
      "Find S: Finding a Maximally Specific Hypothesis \n",
      "\n",
      "Find S: Finding a Maximally Specific Hypothesis \n",
      "\n",
      "Find S: Finding a Maximally Specific Hypothesis \n",
      "\n",
      "For Training Instance No:0 \n",
      "The Hypothesis Is ['Sunny', 'Warm', 'Normal', 'Strong', 'Warm', 'Same']\n",
      "For Training Instance No:1 \n",
      "The Hypothesis Is ['Sunny', 'Warm', '?', 'Strong', 'Warm', 'Same']\n",
      "For Training Instance No:2 \n",
      "The Hypothesis Is ['Sunny', 'Warm', '?', 'Strong', 'Warm', 'Same']\n",
      "For Training Instance No:3 \n",
      "The Hypothesis Is ['Sunny', 'Warm', '?', 'Strong', '?', '?']\n",
      "The Maximally Specific Hypothesis Is: \n",
      "\n",
      "['Sunny', 'Warm', '?', 'Strong', '?', '?']\n"
     ]
    }
   ],
   "source": [
    "import csv\n",
    "num_att=6\n",
    "a=[]\n",
    "print(\"The Given Training Data Set \\n\")\n",
    "with open(r\"ws.csv\") as csvfile:\n",
    "    reader=csv.reader(csvfile)\n",
    "    for row in reader:\n",
    "        a.append(row)\n",
    "        print(row)\n",
    "        print(\"The Initial Value Of Hypothesis: \")\n",
    "hypothesis=['0']*num_att\n",
    "print(hypothesis)\n",
    "\n",
    "for j in range(0,num_att):\n",
    "    hypothesis[j] = a[0][j]\n",
    "    print(\"Find S: Finding a Maximally Specific Hypothesis \\n\")\n",
    "\n",
    "for i in range(0,len(a)):\n",
    "    if a[i][num_att]=='Yes':\n",
    "        for j in range(0,num_att):\n",
    "            if a[i][j]!=hypothesis[j]:\n",
    "                    hypothesis[j]='?'\n",
    "            else:\n",
    "                    hypothesis[j]=a[i][j]\n",
    "    print(\"For Training Instance No:{0} \\nThe Hypothesis Is\".format(i),hypothesis)\n",
    "\n",
    "print(\"The Maximally Specific Hypothesis Is: \\n\")\n",
    "print(hypothesis)"
   ]
  },
  {
   "cell_type": "code",
   "execution_count": null,
   "id": "acd6671e-e884-4048-bdcd-71f0e017f367",
   "metadata": {},
   "outputs": [],
   "source": []
  }
 ],
 "metadata": {
  "kernelspec": {
   "display_name": "Python 3 (ipykernel)",
   "language": "python",
   "name": "python3"
  },
  "language_info": {
   "codemirror_mode": {
    "name": "ipython",
    "version": 3
   },
   "file_extension": ".py",
   "mimetype": "text/x-python",
   "name": "python",
   "nbconvert_exporter": "python",
   "pygments_lexer": "ipython3",
   "version": "3.12.4"
  }
 },
 "nbformat": 4,
 "nbformat_minor": 5
}
